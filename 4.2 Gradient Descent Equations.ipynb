{
 "cells": [
  {
   "cell_type": "markdown",
   "metadata": {},
   "source": [
    "# Gradient Descent Equations"
   ]
  },
  {
   "cell_type": "markdown",
   "metadata": {},
   "source": [
    "Boise State University\\\n",
    "Department of Computer Science\\\n",
    "CS 334 Algorithms of Machine Learning\\\n",
    "Conrad Kennington\\\n",
    "Fall 2020"
   ]
  },
  {
   "cell_type": "markdown",
   "metadata": {},
   "source": [
    "### First... the cost function for Linear Regression"
   ]
  },
  {
   "cell_type": "markdown",
   "metadata": {},
   "source": [
    "Given a sequence of points,  yi , and a sequence of points predicted by our model,  ŷ i , RSS is:"
   ]
  },
  {
   "cell_type": "markdown",
   "metadata": {},
   "source": [
    " $$ \\text{error}_{(m, b)} = \\sum_{i=1}^n(y_i - \\hat{y_i}) $$"
   ]
  },
  {
   "cell_type": "markdown",
   "metadata": {},
   "source": [
    "Our objective is to minimize this value. Inserting our linear regression model in for the  ŷ i  predictions, and assuming (for the sake of simplicty) that we're doing regression on only one variable, we get:"
   ]
  },
  {
   "cell_type": "markdown",
   "metadata": {},
   "source": [
    "$$ \\text{RSS} = \\sum_{i=1}^n (y_i - (m x_i + b))^2 $$"
   ]
  },
  {
   "cell_type": "markdown",
   "metadata": {},
   "source": [
    "Where  b  is the intercept and  m  is the slope of the line of best fit. RSS = Residual Sum of Squares"
   ]
  },
  {
   "cell_type": "markdown",
   "metadata": {},
   "source": [
    "### Now we need to take the gradient. "
   ]
  },
  {
   "cell_type": "markdown",
   "metadata": {},
   "source": [
    "Since this is an equation of two variables ( b  and  m ) the gradient will consist of two partial derivatives. Hence the gradient is:"
   ]
  },
  {
   "cell_type": "markdown",
   "metadata": {},
   "source": [
    "$$ \\Big< \\frac{\\partial}{\\partial b}(\\text{RSS}),  \\frac{\\partial}{\\partial m}(\\text{RSS}) \\Big> = \n",
    "\\Big< -2\\sum_{i=1}^n(y_i - (mx_i + b)), -2\\sum_{i=1}^n x_i(y_i - (mx_i +b)) \\Big> $$"
   ]
  },
  {
   "cell_type": "markdown",
   "metadata": {},
   "source": [
    "To solve, take a step in the negative gradient direction every iteration. Eventually we will have something that converges.\n",
    "\n",
    "Let's implement and test this (note that for the implementation we'll actually use MSE, mean squared error. MSE is just RSS divided by the number of points, n. Makes for easier inputs for an iterative approach."
   ]
  },
  {
   "cell_type": "code",
   "execution_count": 23,
   "metadata": {},
   "outputs": [],
   "source": [
    "import numpy as np\n",
    "\n",
    "class GradientDescentLinearRegression:\n",
    "    def __init__(self, learning_rate=0.01, iterations=1000):\n",
    "        self.learning_rate, self.iterations = learning_rate, iterations\n",
    "    \n",
    "    def fit(self, X, y):\n",
    "        # Start in a random place... why not y = 5x + 0\n",
    "        b = 0 # y intercept starts at 0\n",
    "        m = 5 # Slope starts with going up 5, over 1\n",
    "        \n",
    "        n = X.shape[0] # Get the number of points        \n",
    "        # Loop over the number of iterations it takes to find the lowest cost (best fit)\n",
    "        for _ in range(self.iterations):\n",
    "            # The whole result is negative because we want to follow the cost function down to the bottom\n",
    "            b_gradient = -2 * np.sum(y - (m * X) + b) / n # derivative of the cost of the y intercept\n",
    "            m_gradient = -2 * np.sum(X * (y - ((m * X) + b))) / n # derivative of the cost of the LR slope\n",
    "            print(\"m_gradient {}\".format(m_gradient))\n",
    "            \n",
    "            # this is the \"gradient descent\" algorithm:\n",
    "            # theta1 = theta0 - (alpha * f'(theta))   ...or:\n",
    "            # next step = current position +- (learning rate * direction of fastest increase)\n",
    "            b = b + (self.learning_rate * b_gradient) # update intercept\n",
    "            m = m - (self.learning_rate * m_gradient) # update slope\n",
    "            \n",
    "            if b_gradient < 0.001 and m_gradient < 0.001:\n",
    "                \n",
    "                break;\n",
    "            \n",
    "\n",
    "        self.m, self.b = m, b # Done. Save for later\n",
    "        \n",
    "    def predict(self, X):\n",
    "        return self.m*X + self.b # return values for y = mX + b"
   ]
  },
  {
   "cell_type": "markdown",
   "metadata": {},
   "source": [
    "That's all we need! OK, let's see how this performs on some example data. We'll generate a cloud of points that's normally distributed around the line  y=x , and see what our algorithm cooks up."
   ]
  },
  {
   "cell_type": "code",
   "execution_count": 24,
   "metadata": {},
   "outputs": [],
   "source": [
    "np.random.seed(58)\n",
    "# This generates random numbers in two numpy arrays, and sorts them so they appear to have a linear relationship\n",
    "X = np.array(sorted(list(range(5))*20)) + np.random.normal(size=100, scale=0.5)\n",
    "y = np.array(sorted(list(range(5))*20)) + np.random.normal(size=100, scale=0.25)"
   ]
  },
  {
   "cell_type": "code",
   "execution_count": null,
   "metadata": {},
   "outputs": [],
   "source": []
  },
  {
   "cell_type": "code",
   "execution_count": 25,
   "metadata": {},
   "outputs": [
    {
     "name": "stdout",
     "output_type": "stream",
     "text": [
      "m_gradient 53.94187103467117\n",
      "m_gradient 47.45363563714119\n",
      "m_gradient 41.72320439059123\n",
      "m_gradient 36.6628783263606\n",
      "m_gradient 32.195077799617145\n",
      "m_gradient 28.25117596302899\n",
      "m_gradient 24.770466672673955\n",
      "m_gradient 21.69925133556692\n",
      "m_gradient 18.99003099311105\n",
      "m_gradient 16.600791514035514\n",
      "m_gradient 14.494371167670213\n",
      "m_gradient 12.637901084692135\n",
      "m_gradient 11.002310206312092\n",
      "m_gradient 9.561887290666629\n",
      "m_gradient 8.293893401461874\n",
      "m_gradient 7.178219061532432\n",
      "m_gradient 6.197080924298145\n",
      "m_gradient 5.3347534091833095\n",
      "m_gradient 4.577331271806357\n",
      "m_gradient 3.9125195440277816\n",
      "m_gradient 3.3294476897263716\n",
      "m_gradient 2.8185051856236902\n",
      "m_gradient 2.371196058047466\n",
      "m_gradient 1.9800101910419534\n",
      "m_gradient 1.638309472966786\n",
      "m_gradient 1.3402270714528544\n",
      "m_gradient 1.0805783236466808\n",
      "m_gradient 0.8547819030306996\n",
      "m_gradient 0.6587900783721855\n",
      "m_gradient 0.48902701684334793\n",
      "m_gradient 0.34233420411742754\n",
      "m_gradient 0.21592216109274937\n",
      "m_gradient 0.10732773143194478\n",
      "m_gradient 0.014376297745699587\n",
      "m_gradient -0.06485164174559403\n"
     ]
    },
    {
     "data": {
      "text/plain": [
       "Text(0.5, 1.0, 'Gradient Descent Linear Regressor')"
      ]
     },
     "execution_count": 25,
     "metadata": {},
     "output_type": "execute_result"
    },
    {
     "data": {
      "image/png": "[encoded data removed]",
      "text/plain": [
       "<Figure size 432x288 with 1 Axes>"
      ]
     },
     "metadata": {},
     "output_type": "display_data"
    }
   ],
   "source": [
    "clf = GradientDescentLinearRegression()\n",
    "clf.fit(X, y)\n",
    "\n",
    "import matplotlib.pyplot as plt\n",
    "plt.style.use('fivethirtyeight') # Replicates style of FiveThirtyEight.com, a polling website\n",
    "\n",
    "plt.scatter(X, y, color='black') # plot data points\n",
    "plt.plot(X, clf.predict(X)) # plot calculated line\n",
    "plt.gca().set_title(\"Gradient Descent Linear Regressor\")"
   ]
  },
  {
   "cell_type": "markdown",
   "metadata": {},
   "source": [
    "The biggest advantage gradient descent has is that it requires no knowledge whatsoever of the fundamentals of the model. We can apply the classifier we've built without knowing anything about linear regression. Instead we just pick a metric, compute its derivative, and then use a computer to iterate to a solution.\n",
    "\n",
    "This is wasteful for simple ordinary least squares, because we have a way of solving this already, sure. But for most machine learning problems, calculating and plotting the entire cost curve is intractable.\n",
    "\n",
    "A gradient descent solution to modeling can be applied to any model metric, so long as the metric has two properties: it's differentiable (most things are) and concave. Concavity is the property that no matter where you are on the metric surface, the derivative will point towards a point with better \"fit\", right up until you get to the bottom of the thing.\n",
    "\n",
    "There are many, many ways in which this process can be optimized, generalized, and tweaked, most of which find their way into practical ML. There's also a whole mathematical subfield, convex optimization, concerned with this very practical problem space."
   ]
  },
  {
   "cell_type": "code",
   "execution_count": null,
   "metadata": {},
   "outputs": [],
   "source": []
  },
  {
   "cell_type": "code",
   "execution_count": null,
   "metadata": {},
   "outputs": [],
   "source": []
  }
 ],
 "metadata": {
  "kernelspec": {
   "display_name": "Python 3",
   "language": "python",
   "name": "python3"
  },
  "language_info": {
   "codemirror_mode": {
    "name": "ipython",
    "version": 3
   },
   "file_extension": ".py",
   "mimetype": "text/x-python",
   "name": "python",
   "nbconvert_exporter": "python",
   "pygments_lexer": "ipython3",
   "version": "3.8.5"
  }
 },
 "nbformat": 4,
 "nbformat_minor": 4
}
